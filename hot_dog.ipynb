{
  "nbformat": 4,
  "nbformat_minor": 0,
  "metadata": {
    "colab": {
      "provenance": []
    },
    "kernelspec": {
      "name": "python3",
      "display_name": "Python 3"
    },
    "language_info": {
      "name": "python"
    }
  },
  "cells": [
    {
      "cell_type": "code",
      "execution_count": 1,
      "metadata": {
        "colab": {
          "base_uri": "https://localhost:8080/"
        },
        "id": "aKdFTpyYApq6",
        "outputId": "19edb43b-317f-41b3-f643-a8f969e96e73"
      },
      "outputs": [
        {
          "output_type": "stream",
          "name": "stdout",
          "text": [
            "Mounted at /content/drive/\n"
          ]
        }
      ],
      "source": [
        "from google.colab import drive\n",
        "drive.mount(\"/content/drive/\", force_remount=True)"
      ]
    },
    {
      "cell_type": "code",
      "source": [
        "%cd drive/MyDrive/hotdog"
      ],
      "metadata": {
        "colab": {
          "base_uri": "https://localhost:8080/"
        },
        "id": "8Q4WjwZ8BHPa",
        "outputId": "68f4b845-cee1-4875-da69-2473ba3f5f0a"
      },
      "execution_count": 2,
      "outputs": [
        {
          "output_type": "stream",
          "name": "stdout",
          "text": [
            "/content/drive/MyDrive/hotdog\n"
          ]
        }
      ]
    },
    {
      "cell_type": "markdown",
      "source": [
        "## File structure\n",
        "test \n",
        "- hot_dog\n",
        "  - images\n",
        "- not_hot_dog\n",
        "  - images\n",
        "\n",
        "train\n",
        "- hot_dog\n",
        "  - images\n",
        "- not_hot_dog\n",
        "  - images"
      ],
      "metadata": {
        "id": "vGFpq2lqByTL"
      }
    },
    {
      "cell_type": "code",
      "source": [
        "%ls test\n"
      ],
      "metadata": {
        "colab": {
          "base_uri": "https://localhost:8080/"
        },
        "id": "UCyceirWBpmI",
        "outputId": "eaa055a5-3d3d-452b-9c6a-f6857fb370b1"
      },
      "execution_count": 3,
      "outputs": [
        {
          "output_type": "stream",
          "name": "stdout",
          "text": [
            "\u001b[0m\u001b[01;34mhot_dog\u001b[0m/  \u001b[01;34mnot_hot_dog\u001b[0m/\n"
          ]
        }
      ]
    },
    {
      "cell_type": "markdown",
      "source": [
        "# Helper function"
      ],
      "metadata": {
        "id": "1cSiEnOECyK6"
      }
    },
    {
      "cell_type": "code",
      "source": [
        "import os\n",
        "import cv2\n",
        "import numpy as np\n",
        "\n",
        "def load_images_from_folder(folder):\n",
        "    images = []\n",
        "    for filename in os.listdir(folder):\n",
        "        img = cv2.imread(os.path.join(folder,filename))\n",
        "        if img is not None:\n",
        "            images.append(img)\n",
        "    return images"
      ],
      "metadata": {
        "id": "4nJS2YpBCxNO"
      },
      "execution_count": 4,
      "outputs": []
    },
    {
      "cell_type": "markdown",
      "source": [
        "# Load in testing and training data"
      ],
      "metadata": {
        "id": "GcQuHBVoC7z2"
      }
    },
    {
      "cell_type": "code",
      "source": [
        "\n",
        "X_train_hot = load_images_from_folder('train/hot_dog')\n",
        "X_train_not = load_images_from_folder('train/not_hot_dog')\n",
        "X_test_hot = load_images_from_folder('test/hot_dog')\n",
        "X_test_not = load_images_from_folder('test/not_hot_dog')\n"
      ],
      "metadata": {
        "id": "CHJ72H3NC_4R"
      },
      "execution_count": 5,
      "outputs": []
    },
    {
      "cell_type": "markdown",
      "source": [
        "# Functions for scaling images to same size and fixing color\n"
      ],
      "metadata": {
        "id": "t4VcSnzDMnGx"
      }
    },
    {
      "cell_type": "code",
      "source": [
        "from PIL import Image\n",
        "\n",
        "# Reduces image quality while preserving dimension\n",
        "def scale(images):\n",
        "\n",
        "  return_list = []\n",
        "\n",
        "  for index, image in enumerate(images):\n",
        "    im2 = Image.fromarray(images[index].astype('uint8'), 'RGB')\n",
        "    im2 = im2.resize((256,256))\n",
        "    im2 = np.array(im2)\n",
        "    return_list.append(im2)\n",
        "  return np.array(return_list)\n",
        "\n",
        "def fix_color(images):\n",
        "  return np.flip(images, axis=-1) \n",
        "\n"
      ],
      "metadata": {
        "id": "GW7ZW9byMmuL"
      },
      "execution_count": 6,
      "outputs": []
    },
    {
      "cell_type": "markdown",
      "source": [
        "# Scale images and fix color"
      ],
      "metadata": {
        "id": "f_lDf_HLNI4n"
      }
    },
    {
      "cell_type": "code",
      "source": [
        "import matplotlib.pyplot as plt\n",
        "# Scale and fix\n",
        "X_train_hot = fix_color(scale(X_train_hot))\n",
        "X_train_not = fix_color(scale(X_train_not))\n",
        "X_test_hot = fix_color(scale(X_test_hot))\n",
        "X_test_not = fix_color(scale(X_test_not))\n"
      ],
      "metadata": {
        "id": "xphe5mE8NIIM"
      },
      "execution_count": 7,
      "outputs": []
    },
    {
      "cell_type": "markdown",
      "source": [
        "# Create labels and merge data"
      ],
      "metadata": {
        "id": "Itt8FbaBRmca"
      }
    },
    {
      "cell_type": "code",
      "source": [
        "# y_train\n",
        "y_train_0 = np.zeros(X_train_not.shape[0])\n",
        "y_train_1 = np.ones(X_train_not.shape[0])\n",
        "y_train = np.hstack((y_train_0,y_train_1))\n",
        "\n",
        "# y_test\n",
        "y_test_0 = np.zeros(X_test_not.shape[0])\n",
        "y_test_1 = np.ones(X_test_not.shape[0])\n",
        "y_test = np.hstack((y_test_0,y_test_1))\n",
        "\n",
        "\n",
        "\n",
        "# X_train\n",
        "X_not = np.vstack((X_test_not, X_train_not))\n",
        "X_hot = np.vstack((X_test_hot, X_train_hot))\n",
        "\n",
        "y_not = np.zeros(X_not.shape[0])\n",
        "y_hot = np.ones(X_hot.shape[0])\n",
        "\n",
        "\n",
        "X = np.vstack((X_not, X_hot))\n",
        "y = np.hstack((y_not, y_hot))\n",
        "# Delete redundant variables\n",
        "#del(y_train_0)\n",
        "#del(y_train_1)\n",
        "#del(y_test_0)\n",
        "#del(y_test_1)\n",
        "#\n",
        "#del(X_train_not)\n",
        "#del(X_test_not)\n",
        "#del(X_train_hot)\n",
        "#del(X_test_hot)"
      ],
      "metadata": {
        "id": "qK12zrKYRsIv"
      },
      "execution_count": 8,
      "outputs": []
    },
    {
      "cell_type": "markdown",
      "source": [
        "# Split into train, test and val"
      ],
      "metadata": {
        "id": "_tZI3wZLrR5q"
      }
    },
    {
      "cell_type": "code",
      "source": [
        "from sklearn.model_selection import train_test_split\n",
        "\n",
        "X_train, X_temp, y_train, y_temp = train_test_split(X, y, test_size=0.2, random_state=42)\n",
        "\n",
        "X_test, X_val, y_test, y_val = train_test_split(X, y, test_size=0.5, random_state=42)\n"
      ],
      "metadata": {
        "id": "7kjImd1CUr9o"
      },
      "execution_count": 9,
      "outputs": []
    },
    {
      "cell_type": "code",
      "source": [
        "plt.imshow(X_test[0])\n",
        "print(X_train[0].shape)"
      ],
      "metadata": {
        "colab": {
          "base_uri": "https://localhost:8080/",
          "height": 287
        },
        "id": "YBlax9hfUqqB",
        "outputId": "5411c6cc-bc22-458b-ef42-b90a4e303a38"
      },
      "execution_count": 10,
      "outputs": [
        {
          "output_type": "stream",
          "name": "stdout",
          "text": [
            "(256, 256, 3)\n"
          ]
        },
        {
          "output_type": "display_data",
          "data": {
            "text/plain": [
              "<Figure size 432x288 with 1 Axes>"
            ],
            "image/png": "[encoded data removed]"
          },
          "metadata": {
            "needs_background": "light"
          }
        }
      ]
    },
    {
      "cell_type": "markdown",
      "source": [
        "# Model"
      ],
      "metadata": {
        "id": "xNoAgf9RUPUi"
      }
    },
    {
      "cell_type": "code",
      "source": [
        "from tensorflow.keras.models import Sequential\n",
        "from tensorflow.keras.layers import Conv2D, MaxPooling2D, Flatten, Dense, Dropout, AveragePooling2D\n",
        "from tensorflow.keras.optimizers import Adam\n",
        "# Define the model\n",
        "model = Sequential()\n",
        "\n",
        "# Add the convolutional layers\n",
        "model.add(Conv2D(8, kernel_size=(3, 3), activation='relu', input_shape=(X_train[0].shape)))\n",
        "model.add(Dropout(0.2))\n",
        "model.add(AveragePooling2D(pool_size=(2, 2)))\n",
        "model.add(Conv2D(16, kernel_size=(3, 3), activation='relu'))\n",
        "model.add(Dropout(0.3))\n",
        "model.add(MaxPooling2D(pool_size=(2, 2)))\n",
        "\n",
        "# Add the fully connected layers\n",
        "model.add(Flatten())\n",
        "model.add(Dense(128, activation='relu'))\n",
        "model.add(Dropout(0.5))\n",
        "model.add(Dense(1, activation='sigmoid'))\n",
        "\n",
        "# Compile the model\n",
        "model.compile(loss='binary_crossentropy', optimizer=Adam(lr=5e-3), metrics=['accuracy'])\n",
        "\n",
        "model.summary()"
      ],
      "metadata": {
        "colab": {
          "base_uri": "https://localhost:8080/"
        },
        "id": "VB6mm2ZbUQSx",
        "outputId": "a05adf9c-64c3-4968-d291-fb21b23896e2"
      },
      "execution_count": 11,
      "outputs": [
        {
          "output_type": "stream",
          "name": "stdout",
          "text": [
            "Model: \"sequential\"\n",
            "_________________________________________________________________\n",
            " Layer (type)                Output Shape              Param #   \n",
            "=================================================================\n",
            " conv2d (Conv2D)             (None, 254, 254, 8)       224       \n",
            "                                                                 \n",
            " dropout (Dropout)           (None, 254, 254, 8)       0         \n",
            "                                                                 \n",
            " average_pooling2d (AverageP  (None, 127, 127, 8)      0         \n",
            " ooling2D)                                                       \n",
            "                                                                 \n",
            " conv2d_1 (Conv2D)           (None, 125, 125, 16)      1168      \n",
            "                                                                 \n",
            " dropout_1 (Dropout)         (None, 125, 125, 16)      0         \n",
            "                                                                 \n",
            " max_pooling2d (MaxPooling2D  (None, 62, 62, 16)       0         \n",
            " )                                                               \n",
            "                                                                 \n",
            " flatten (Flatten)           (None, 61504)             0         \n",
            "                                                                 \n",
            " dense (Dense)               (None, 128)               7872640   \n",
            "                                                                 \n",
            " dropout_2 (Dropout)         (None, 128)               0         \n",
            "                                                                 \n",
            " dense_1 (Dense)             (None, 1)                 129       \n",
            "                                                                 \n",
            "=================================================================\n",
            "Total params: 7,874,161\n",
            "Trainable params: 7,874,161\n",
            "Non-trainable params: 0\n",
            "_________________________________________________________________\n"
          ]
        },
        {
          "output_type": "stream",
          "name": "stderr",
          "text": [
            "/usr/local/lib/python3.8/dist-packages/keras/optimizers/optimizer_v2/adam.py:110: UserWarning: The `lr` argument is deprecated, use `learning_rate` instead.\n",
            "  super(Adam, self).__init__(name, **kwargs)\n"
          ]
        }
      ]
    },
    {
      "cell_type": "code",
      "source": [
        "print(X_test.shape)\n",
        "print(y_test.shape)\n",
        "print(X_train.shape)\n",
        "print(y_train.shape)"
      ],
      "metadata": {
        "colab": {
          "base_uri": "https://localhost:8080/"
        },
        "id": "kjVxAVGbU82X",
        "outputId": "d66dd6cd-58d2-4a0f-dfa3-a88b3b12a471"
      },
      "execution_count": 12,
      "outputs": [
        {
          "output_type": "stream",
          "name": "stdout",
          "text": [
            "(499, 256, 256, 3)\n",
            "(499,)\n",
            "(798, 256, 256, 3)\n",
            "(798,)\n"
          ]
        }
      ]
    },
    {
      "cell_type": "code",
      "source": [
        "history = model.fit(X_train,y_train, epochs=30, shuffle=True, validation_data=(X_val, y_val), batch_size= 32)"
      ],
      "metadata": {
        "colab": {
          "base_uri": "https://localhost:8080/"
        },
        "id": "sTYIRlqaVgBl",
        "outputId": "a6b9afb5-edb5-436f-aa81-ff5ac69afee0"
      },
      "execution_count": 13,
      "outputs": [
        {
          "output_type": "stream",
          "name": "stdout",
          "text": [
            "Epoch 1/30\n",
            "25/25 [==============================] - 39s 2s/step - loss: 547.9970 - accuracy: 0.5113 - val_loss: 1.0576 - val_accuracy: 0.5631\n",
            "Epoch 2/30\n",
            "25/25 [==============================] - 49s 2s/step - loss: 1.4441 - accuracy: 0.5414 - val_loss: 0.7163 - val_accuracy: 0.6132\n",
            "Epoch 3/30\n",
            "25/25 [==============================] - 39s 2s/step - loss: 0.6358 - accuracy: 0.6504 - val_loss: 0.6379 - val_accuracy: 0.6693\n",
            "Epoch 4/30\n",
            "25/25 [==============================] - 36s 1s/step - loss: 0.5556 - accuracy: 0.6955 - val_loss: 0.5993 - val_accuracy: 0.7074\n",
            "Epoch 5/30\n",
            "25/25 [==============================] - 38s 2s/step - loss: 0.4867 - accuracy: 0.7707 - val_loss: 0.5819 - val_accuracy: 0.7515\n",
            "Epoch 6/30\n",
            "25/25 [==============================] - 36s 1s/step - loss: 0.4284 - accuracy: 0.8083 - val_loss: 0.5353 - val_accuracy: 0.7735\n",
            "Epoch 7/30\n",
            "25/25 [==============================] - 37s 1s/step - loss: 0.3572 - accuracy: 0.8559 - val_loss: 0.5362 - val_accuracy: 0.7996\n",
            "Epoch 8/30\n",
            "25/25 [==============================] - 36s 1s/step - loss: 0.2679 - accuracy: 0.8947 - val_loss: 0.5421 - val_accuracy: 0.8156\n",
            "Epoch 9/30\n",
            "25/25 [==============================] - 38s 2s/step - loss: 0.2230 - accuracy: 0.9123 - val_loss: 0.5717 - val_accuracy: 0.8236\n",
            "Epoch 10/30\n",
            "25/25 [==============================] - 36s 1s/step - loss: 0.1720 - accuracy: 0.9373 - val_loss: 0.6094 - val_accuracy: 0.8297\n",
            "Epoch 11/30\n",
            "25/25 [==============================] - 44s 2s/step - loss: 0.1484 - accuracy: 0.9398 - val_loss: 0.7188 - val_accuracy: 0.8317\n",
            "Epoch 12/30\n",
            "25/25 [==============================] - 39s 2s/step - loss: 0.1323 - accuracy: 0.9474 - val_loss: 0.7085 - val_accuracy: 0.8277\n",
            "Epoch 13/30\n",
            "25/25 [==============================] - 38s 1s/step - loss: 0.1272 - accuracy: 0.9586 - val_loss: 0.6927 - val_accuracy: 0.8277\n",
            "Epoch 14/30\n",
            "25/25 [==============================] - 37s 1s/step - loss: 0.1157 - accuracy: 0.9524 - val_loss: 0.7215 - val_accuracy: 0.8357\n",
            "Epoch 15/30\n",
            "25/25 [==============================] - 39s 2s/step - loss: 0.1001 - accuracy: 0.9624 - val_loss: 0.7797 - val_accuracy: 0.8297\n",
            "Epoch 16/30\n",
            "25/25 [==============================] - 42s 2s/step - loss: 0.1096 - accuracy: 0.9549 - val_loss: 0.7111 - val_accuracy: 0.8397\n",
            "Epoch 17/30\n",
            "25/25 [==============================] - 43s 2s/step - loss: 0.0872 - accuracy: 0.9624 - val_loss: 0.7492 - val_accuracy: 0.8417\n",
            "Epoch 18/30\n",
            "25/25 [==============================] - 41s 2s/step - loss: 0.0863 - accuracy: 0.9662 - val_loss: 0.6770 - val_accuracy: 0.8517\n",
            "Epoch 19/30\n",
            "25/25 [==============================] - 48s 2s/step - loss: 0.1170 - accuracy: 0.9674 - val_loss: 0.6863 - val_accuracy: 0.8317\n",
            "Epoch 20/30\n",
            "25/25 [==============================] - 36s 1s/step - loss: 0.1145 - accuracy: 0.9624 - val_loss: 0.6633 - val_accuracy: 0.8457\n",
            "Epoch 21/30\n",
            "25/25 [==============================] - 37s 1s/step - loss: 0.1153 - accuracy: 0.9574 - val_loss: 0.6782 - val_accuracy: 0.8417\n",
            "Epoch 22/30\n",
            "25/25 [==============================] - 37s 2s/step - loss: 0.0868 - accuracy: 0.9699 - val_loss: 0.7298 - val_accuracy: 0.8457\n",
            "Epoch 23/30\n",
            "25/25 [==============================] - 38s 2s/step - loss: 0.1107 - accuracy: 0.9612 - val_loss: 0.7833 - val_accuracy: 0.8437\n",
            "Epoch 24/30\n",
            "25/25 [==============================] - 38s 2s/step - loss: 0.0804 - accuracy: 0.9662 - val_loss: 0.7566 - val_accuracy: 0.8477\n",
            "Epoch 25/30\n",
            "25/25 [==============================] - 37s 1s/step - loss: 0.0854 - accuracy: 0.9674 - val_loss: 0.7616 - val_accuracy: 0.8377\n",
            "Epoch 26/30\n",
            "25/25 [==============================] - 36s 1s/step - loss: 0.0684 - accuracy: 0.9699 - val_loss: 0.8365 - val_accuracy: 0.8417\n",
            "Epoch 27/30\n",
            "25/25 [==============================] - 40s 2s/step - loss: 0.0557 - accuracy: 0.9762 - val_loss: 0.9267 - val_accuracy: 0.8477\n",
            "Epoch 28/30\n",
            "25/25 [==============================] - 36s 1s/step - loss: 0.0499 - accuracy: 0.9724 - val_loss: 0.9717 - val_accuracy: 0.8417\n",
            "Epoch 29/30\n",
            "25/25 [==============================] - 36s 1s/step - loss: 0.0657 - accuracy: 0.9787 - val_loss: 0.9471 - val_accuracy: 0.8377\n",
            "Epoch 30/30\n",
            "25/25 [==============================] - 36s 1s/step - loss: 0.0599 - accuracy: 0.9662 - val_loss: 0.9774 - val_accuracy: 0.8397\n"
          ]
        }
      ]
    },
    {
      "cell_type": "markdown",
      "source": [
        "# Accuracy plot"
      ],
      "metadata": {
        "id": "4JbuNQ15ud6f"
      }
    },
    {
      "cell_type": "code",
      "source": [
        "plt.plot(history.history['loss'])\n",
        "plt.plot(history.history['val_loss'])\n",
        "plt.plot(history.history['accuracy'])\n",
        "plt.plot(history.history['val_accuracy'])\n",
        "plt.title('model loss')\n",
        "plt.ylabel('loss')\n",
        "plt.xlabel('epoch')\n",
        "plt.legend(['train', 'val'], loc='upper right')\n",
        "plt.show()"
      ],
      "metadata": {
        "colab": {
          "base_uri": "https://localhost:8080/",
          "height": 295
        },
        "id": "evnOIobtuf9u",
        "outputId": "5b8f38c2-a511-45a3-f55d-984142d03873"
      },
      "execution_count": 14,
      "outputs": [
        {
          "output_type": "display_data",
          "data": {
            "text/plain": [
              "<Figure size 432x288 with 1 Axes>"
            ],
            "image/png": "[encoded data removed]"
          },
          "metadata": {
            "needs_background": "light"
          }
        }
      ]
    },
    {
      "cell_type": "markdown",
      "source": [
        "#SVM"
      ],
      "metadata": {
        "id": "f4QZWTF_eNka"
      }
    },
    {
      "cell_type": "markdown",
      "source": [
        "## Preprocess"
      ],
      "metadata": {
        "id": "kcOm0RHfem2I"
      }
    },
    {
      "cell_type": "code",
      "source": [
        "X_train_c = np.reshape(X_train, (X_train.shape[0], int(X_train.size/X_train.shape[0])))\n",
        "X_test_c = np.reshape(X_test, (X_test.shape[0], int(X_test.size/X_test.shape[0])))\n",
        "X_val_c = np.reshape(X_test, (X_test.shape[0], int(X_test.size/X_test.shape[0])))"
      ],
      "metadata": {
        "id": "XV_LRcsFeo2x"
      },
      "execution_count": 15,
      "outputs": []
    },
    {
      "cell_type": "markdown",
      "source": [
        "## PCA"
      ],
      "metadata": {
        "id": "pDRYqLEAA09v"
      }
    },
    {
      "cell_type": "code",
      "source": [
        "import matplotlib.pyplot as plt\n",
        "import seaborn as sns\n",
        "\n",
        "\n",
        "#sns.scatterplot(data=tips, x=X_train_c, y=y, hue=\"size\", palette=\"deep\")\n"
      ],
      "metadata": {
        "id": "iZIxvrVqA2eF",
        "colab": {
          "base_uri": "https://localhost:8080/",
          "height": 204
        },
        "outputId": "57db426f-4e76-46ca-9bd8-0602bb0eec7e"
      },
      "execution_count": 16,
      "outputs": [
        {
          "output_type": "error",
          "ename": "NameError",
          "evalue": "ignored",
          "traceback": [
            "\u001b[0;31m---------------------------------------------------------------------------\u001b[0m",
            "\u001b[0;31mNameError\u001b[0m                                 Traceback (most recent call last)",
            "\u001b[0;32m<ipython-input-16-0e12b1d073b4>\u001b[0m in \u001b[0;36m<module>\u001b[0;34m\u001b[0m\n\u001b[1;32m      3\u001b[0m \u001b[0;34m\u001b[0m\u001b[0m\n\u001b[1;32m      4\u001b[0m \u001b[0;34m\u001b[0m\u001b[0m\n\u001b[0;32m----> 5\u001b[0;31m \u001b[0msns\u001b[0m\u001b[0;34m.\u001b[0m\u001b[0mscatterplot\u001b[0m\u001b[0;34m(\u001b[0m\u001b[0mdata\u001b[0m\u001b[0;34m=\u001b[0m\u001b[0mtips\u001b[0m\u001b[0;34m,\u001b[0m \u001b[0mx\u001b[0m\u001b[0;34m=\u001b[0m\u001b[0mX_train_c\u001b[0m\u001b[0;34m,\u001b[0m \u001b[0my\u001b[0m\u001b[0;34m=\u001b[0m\u001b[0my\u001b[0m\u001b[0;34m,\u001b[0m \u001b[0mhue\u001b[0m\u001b[0;34m=\u001b[0m\u001b[0;34m\"size\"\u001b[0m\u001b[0;34m,\u001b[0m \u001b[0mpalette\u001b[0m\u001b[0;34m=\u001b[0m\u001b[0;34m\"deep\"\u001b[0m\u001b[0;34m)\u001b[0m\u001b[0;34m\u001b[0m\u001b[0;34m\u001b[0m\u001b[0m\n\u001b[0m",
            "\u001b[0;31mNameError\u001b[0m: name 'tips' is not defined"
          ]
        }
      ]
    },
    {
      "cell_type": "markdown",
      "source": [
        "## Model"
      ],
      "metadata": {
        "id": "hqiih6OzeoHo"
      }
    },
    {
      "cell_type": "code",
      "source": [
        "from sklearn import svm\n",
        "\n",
        "\n",
        "clf = svm.SVC()\n",
        "clf.fit(X_train_c, y_train)\n",
        "\n",
        "print(clf.score(X_train_c,y_train))\n",
        "print(clf.score(X_test_c,y_test))"
      ],
      "metadata": {
        "colab": {
          "base_uri": "https://localhost:8080/",
          "height": 407
        },
        "id": "1zP1nKq3eO0G",
        "outputId": "6f6431c3-ac37-4133-9aab-cb38dfbebd97"
      },
      "execution_count": 17,
      "outputs": [
        {
          "output_type": "error",
          "ename": "KeyboardInterrupt",
          "evalue": "ignored",
          "traceback": [
            "\u001b[0;31m---------------------------------------------------------------------------\u001b[0m",
            "\u001b[0;31mKeyboardInterrupt\u001b[0m                         Traceback (most recent call last)",
            "\u001b[0;32m<ipython-input-17-fe72f280e003>\u001b[0m in \u001b[0;36m<module>\u001b[0;34m\u001b[0m\n\u001b[1;32m      3\u001b[0m \u001b[0;34m\u001b[0m\u001b[0m\n\u001b[1;32m      4\u001b[0m \u001b[0mclf\u001b[0m \u001b[0;34m=\u001b[0m \u001b[0msvm\u001b[0m\u001b[0;34m.\u001b[0m\u001b[0mSVC\u001b[0m\u001b[0;34m(\u001b[0m\u001b[0;34m)\u001b[0m\u001b[0;34m\u001b[0m\u001b[0;34m\u001b[0m\u001b[0m\n\u001b[0;32m----> 5\u001b[0;31m \u001b[0mclf\u001b[0m\u001b[0;34m.\u001b[0m\u001b[0mfit\u001b[0m\u001b[0;34m(\u001b[0m\u001b[0mX_train_c\u001b[0m\u001b[0;34m,\u001b[0m \u001b[0my_train\u001b[0m\u001b[0;34m)\u001b[0m\u001b[0;34m\u001b[0m\u001b[0;34m\u001b[0m\u001b[0m\n\u001b[0m\u001b[1;32m      6\u001b[0m \u001b[0;34m\u001b[0m\u001b[0m\n\u001b[1;32m      7\u001b[0m \u001b[0mprint\u001b[0m\u001b[0;34m(\u001b[0m\u001b[0mclf\u001b[0m\u001b[0;34m.\u001b[0m\u001b[0mscore\u001b[0m\u001b[0;34m(\u001b[0m\u001b[0mX_train_c\u001b[0m\u001b[0;34m,\u001b[0m\u001b[0my_train\u001b[0m\u001b[0;34m)\u001b[0m\u001b[0;34m)\u001b[0m\u001b[0;34m\u001b[0m\u001b[0;34m\u001b[0m\u001b[0m\n",
            "\u001b[0;32m/usr/local/lib/python3.8/dist-packages/sklearn/svm/_base.py\u001b[0m in \u001b[0;36mfit\u001b[0;34m(self, X, y, sample_weight)\u001b[0m\n\u001b[1;32m    253\u001b[0m \u001b[0;34m\u001b[0m\u001b[0m\n\u001b[1;32m    254\u001b[0m         \u001b[0mseed\u001b[0m \u001b[0;34m=\u001b[0m \u001b[0mrnd\u001b[0m\u001b[0;34m.\u001b[0m\u001b[0mrandint\u001b[0m\u001b[0;34m(\u001b[0m\u001b[0mnp\u001b[0m\u001b[0;34m.\u001b[0m\u001b[0miinfo\u001b[0m\u001b[0;34m(\u001b[0m\u001b[0;34m\"i\"\u001b[0m\u001b[0;34m)\u001b[0m\u001b[0;34m.\u001b[0m\u001b[0mmax\u001b[0m\u001b[0;34m)\u001b[0m\u001b[0;34m\u001b[0m\u001b[0;34m\u001b[0m\u001b[0m\n\u001b[0;32m--> 255\u001b[0;31m         \u001b[0mfit\u001b[0m\u001b[0;34m(\u001b[0m\u001b[0mX\u001b[0m\u001b[0;34m,\u001b[0m \u001b[0my\u001b[0m\u001b[0;34m,\u001b[0m \u001b[0msample_weight\u001b[0m\u001b[0;34m,\u001b[0m \u001b[0msolver_type\u001b[0m\u001b[0;34m,\u001b[0m \u001b[0mkernel\u001b[0m\u001b[0;34m,\u001b[0m \u001b[0mrandom_seed\u001b[0m\u001b[0;34m=\u001b[0m\u001b[0mseed\u001b[0m\u001b[0;34m)\u001b[0m\u001b[0;34m\u001b[0m\u001b[0;34m\u001b[0m\u001b[0m\n\u001b[0m\u001b[1;32m    256\u001b[0m         \u001b[0;31m# see comment on the other call to np.iinfo in this file\u001b[0m\u001b[0;34m\u001b[0m\u001b[0;34m\u001b[0m\u001b[0;34m\u001b[0m\u001b[0m\n\u001b[1;32m    257\u001b[0m \u001b[0;34m\u001b[0m\u001b[0m\n",
            "\u001b[0;32m/usr/local/lib/python3.8/dist-packages/sklearn/svm/_base.py\u001b[0m in \u001b[0;36m_dense_fit\u001b[0;34m(self, X, y, sample_weight, solver_type, kernel, random_seed)\u001b[0m\n\u001b[1;32m    313\u001b[0m             \u001b[0mself\u001b[0m\u001b[0;34m.\u001b[0m\u001b[0m_probB\u001b[0m\u001b[0;34m,\u001b[0m\u001b[0;34m\u001b[0m\u001b[0;34m\u001b[0m\u001b[0m\n\u001b[1;32m    314\u001b[0m             \u001b[0mself\u001b[0m\u001b[0;34m.\u001b[0m\u001b[0mfit_status_\u001b[0m\u001b[0;34m,\u001b[0m\u001b[0;34m\u001b[0m\u001b[0;34m\u001b[0m\u001b[0m\n\u001b[0;32m--> 315\u001b[0;31m         \u001b[0;34m)\u001b[0m \u001b[0;34m=\u001b[0m \u001b[0mlibsvm\u001b[0m\u001b[0;34m.\u001b[0m\u001b[0mfit\u001b[0m\u001b[0;34m(\u001b[0m\u001b[0;34m\u001b[0m\u001b[0;34m\u001b[0m\u001b[0m\n\u001b[0m\u001b[1;32m    316\u001b[0m             \u001b[0mX\u001b[0m\u001b[0;34m,\u001b[0m\u001b[0;34m\u001b[0m\u001b[0;34m\u001b[0m\u001b[0m\n\u001b[1;32m    317\u001b[0m             \u001b[0my\u001b[0m\u001b[0;34m,\u001b[0m\u001b[0;34m\u001b[0m\u001b[0;34m\u001b[0m\u001b[0m\n",
            "\u001b[0;31mKeyboardInterrupt\u001b[0m: "
          ]
        }
      ]
    },
    {
      "cell_type": "markdown",
      "source": [
        "# Save model"
      ],
      "metadata": {
        "id": "KJBwcihfsukt"
      }
    },
    {
      "cell_type": "code",
      "source": [
        "import pickle\n",
        "\n",
        "# Save the model to a file\n",
        "with open('hot_dog_svm.pkl', 'wb') as file:\n",
        "  pickle.dump(clf, file)"
      ],
      "metadata": {
        "id": "JhUWf0Rmsvrk"
      },
      "execution_count": null,
      "outputs": []
    },
    {
      "cell_type": "markdown",
      "source": [
        "#KNN"
      ],
      "metadata": {
        "id": "ShubI-9p6tav"
      }
    },
    {
      "cell_type": "code",
      "source": [
        "from sklearn.neighbors import KNeighborsClassifier\n",
        "neigh = KNeighborsClassifier(n_neighbors=2)\n",
        "neigh.fit(X_train_c, y_train)\n",
        "\n",
        "print(neigh.score(X_train_c, y_train))\n",
        "print(neigh.score(X_test_c, y_test))"
      ],
      "metadata": {
        "id": "D13qm0rifU01"
      },
      "execution_count": null,
      "outputs": []
    },
    {
      "cell_type": "markdown",
      "source": [
        "# Pickle test\n",
        "\n"
      ],
      "metadata": {
        "id": "9vHbCP3Ms7pb"
      }
    },
    {
      "cell_type": "code",
      "source": [
        "# Load the model from the file\n",
        "with open('hot_dog_svm.pkl', 'rb') as file:\n",
        "  loaded_model = pickle.load(file)"
      ],
      "metadata": {
        "id": "FbSsSldXtCKG"
      },
      "execution_count": null,
      "outputs": []
    },
    {
      "cell_type": "code",
      "source": [
        "loaded_model"
      ],
      "metadata": {
        "id": "Oh62wd5VtH4i"
      },
      "execution_count": null,
      "outputs": []
    },
    {
      "cell_type": "markdown",
      "source": [
        "# Real test"
      ],
      "metadata": {
        "id": "y5nCatEetV0v"
      }
    },
    {
      "cell_type": "code",
      "source": [
        "\n",
        "number = 15\n",
        "\n",
        "plt.imshow(X_test[number])\n",
        "plt.show()\n",
        "\n",
        "if loaded_model.predict(X_test_c[number].reshape((1, X_test_c[number].size)))[0] > 0.5:\n",
        "  print(\"Hot dog\")\n",
        "else:\n",
        "  print(\"Not hot dog\")  "
      ],
      "metadata": {
        "id": "LNy9rFFOtXSt"
      },
      "execution_count": null,
      "outputs": []
    },
    {
      "cell_type": "markdown",
      "source": [
        "# Random Forest"
      ],
      "metadata": {
        "id": "4aFhYwHEUWIb"
      }
    },
    {
      "cell_type": "code",
      "source": [
        "from sklearn.ensemble import RandomForestClassifier\n",
        "\n",
        "# create random forest classifier model\n",
        "rf_model = RandomForestClassifier(n_estimators=17)\n",
        "\n",
        "\n",
        "\n",
        "# set up random search meta-estimator\n",
        "# this will train 100 models over 5 folds of cross validation (500 models total)\n",
        "\n",
        "# train the random search meta-estimator to find the best model out of 100 candidates\n",
        "rf_model.fit(X_train_c, y_train)\n",
        "\n",
        "print(rf_model.score(X_test_c, y_test))\n",
        "\n",
        "print(rf_model.get_params())"
      ],
      "metadata": {
        "colab": {
          "base_uri": "https://localhost:8080/"
        },
        "id": "4F-xuq-HUXaM",
        "outputId": "de1aa7fb-a872-48d9-e055-ff7ecc3c3504"
      },
      "execution_count": 26,
      "outputs": [
        {
          "output_type": "stream",
          "name": "stdout",
          "text": [
            "0.9959919839679359\n",
            "{'bootstrap': True, 'ccp_alpha': 0.0, 'class_weight': None, 'criterion': 'gini', 'max_depth': None, 'max_features': 'auto', 'max_leaf_nodes': None, 'max_samples': None, 'min_impurity_decrease': 0.0, 'min_samples_leaf': 1, 'min_samples_split': 2, 'min_weight_fraction_leaf': 0.0, 'n_estimators': 17, 'n_jobs': None, 'oob_score': False, 'random_state': None, 'verbose': 0, 'warm_start': False}\n"
          ]
        }
      ]
    },
    {
      "cell_type": "markdown",
      "source": [
        "#Save forest"
      ],
      "metadata": {
        "id": "w5NvbTbIiFZJ"
      }
    },
    {
      "cell_type": "code",
      "source": [],
      "metadata": {
        "id": "YrlTtk0uik5W"
      },
      "execution_count": null,
      "outputs": []
    },
    {
      "cell_type": "code",
      "source": [
        "import joblib as joblib\n",
        "\n",
        "joblib.dump(rf_model, 'hot_dog_rf.pkl')"
      ],
      "metadata": {
        "colab": {
          "base_uri": "https://localhost:8080/"
        },
        "id": "nJYrnYMqiHVG",
        "outputId": "3c423018-416a-44b1-d41c-07d74b79e9d1"
      },
      "execution_count": 30,
      "outputs": [
        {
          "output_type": "execute_result",
          "data": {
            "text/plain": [
              "['hot_dog_rf.pkl']"
            ]
          },
          "metadata": {},
          "execution_count": 30
        }
      ]
    }
  ]
}